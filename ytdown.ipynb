{
 "cells": [
  {
   "cell_type": "code",
   "execution_count": 1,
   "metadata": {},
   "outputs": [],
   "source": [
    "from tkinter import *\n",
    "from tkinter import filedialog\n",
    "from tkinter import messagebox\n",
    "import pytube\n",
    "from pytube import YouTube as YT"
   ]
  },
  {
   "cell_type": "code",
   "execution_count": 2,
   "metadata": {},
   "outputs": [],
   "source": [
    "window=Tk()\n",
    "window.title(\"Youtube Video Downloader\")\n",
    "label=Label(window,text=\" Youtube Video Downloader \",font=(\"Calibri\",30,\"bold\")).grid(row=0,column=0,columnspan=3)"
   ]
  },
  {
   "cell_type": "code",
   "execution_count": 3,
   "metadata": {},
   "outputs": [],
   "source": [
    "def Directory():\n",
    "    path=filedialog.askdirectory()\n",
    "    link=url1.get()\n",
    "    yt=YT(link)\n",
    "    if variable.get()==optionList[0]:\n",
    "        vid=yt.streams.get_by_itag(\"22\")\n",
    "        start()\n",
    "        vid.download(path)\n",
    "        end()\n",
    "    elif variable.get()==optionList[1]:\n",
    "        vid=yt.streams.get_by_itag(\"18\")\n",
    "        start()\n",
    "        vid.download(path)\n",
    "        end()\n",
    "    else:\n",
    "        vid=yt.streams.get_by_itag(\"135\")\n",
    "        start()\n",
    "        vid.download(path)\n",
    "        end()"
   ]
  },
  {
   "cell_type": "code",
   "execution_count": 4,
   "metadata": {},
   "outputs": [],
   "source": [
    "def start():\n",
    "    messagebox.showinfo(\"Started\",\"The download has been started! Please wait\")\n",
    "def end():\n",
    "    messagebox.showinfo(\"Stop\",\"The download has been completed succesfully\")"
   ]
  },
  {
   "cell_type": "code",
   "execution_count": 5,
   "metadata": {},
   "outputs": [],
   "source": [
    "font=(\"Helvetica\", 12, \"bold italic\")"
   ]
  },
  {
   "cell_type": "code",
   "execution_count": 6,
   "metadata": {},
   "outputs": [],
   "source": [
    "def getURL():\n",
    "    link=url1.get()\n",
    "    yt=YT(link)\n",
    "    duration=str(yt.length/60)+\" mins\"\n",
    "    vid1.insert(0,duration)\n",
    "    author1.insert(0,yt.author)\n",
    "    rating1.insert(0,yt.rating)\n",
    "    view1.insert(0,yt.views)\n",
    "    messagebox.showinfo(\"URL Parsed\",\"The link has been parsed succesfully\")"
   ]
  },
  {
   "cell_type": "code",
   "execution_count": 7,
   "metadata": {},
   "outputs": [],
   "source": [
    "url=Label(window,text=\"Paste the link here!\",padx=20,pady=10,font=font).grid(row=1,column=0)\n",
    "okay=Button(window,text=\"Okay\",padx=20,pady=10,font=font,command=getURL).grid(row=2,sticky=E,columnspan=2)\n",
    "vid=Label(window,text=\"Video Length: \",padx=20,pady=10,font=font).grid(row=3,column=0)\n",
    "author=Label(window,text=\"Author Name: \",padx=20,pady=10,font=font).grid(row=4,column=0)\n",
    "rating=Label(window,text=\"Video rating\",padx=20,pady=10,font=font).grid(row=5,column=0)\n",
    "view=Label(window,text=\"No. of views\",padx=20,pady=10,font=font).grid(row=6,column=0)\n",
    "res=Label(window,text=\"Set the resolution here!\",padx=20,pady=10,font=font).grid(row=7,column=0)\n",
    "\n",
    "url1=Entry(window,width=35)\n",
    "vid1=Entry(window,width=40)\n",
    "author1=Entry(window,width=40)\n",
    "rating1=Entry(window,width=40)\n",
    "view1=Entry(window,width=40)\n",
    "\n",
    "url1.grid(row=1,column=1)\n",
    "vid1.grid(row=3,column=1)\n",
    "author1.grid(row=4,column=1)\n",
    "rating1.grid(row=5,column=1)\n",
    "view1.grid(row=6,column=1)"
   ]
  },
  {
   "cell_type": "code",
   "execution_count": 8,
   "metadata": {},
   "outputs": [],
   "source": [
    "optionList=[\"720p\",\"360p (recommended)\",\"480p\"]\n",
    "variable = StringVar(window)\n",
    "variable.set(optionList[0])\n",
    "\n",
    "opt = OptionMenu(window, variable, *optionList)\n",
    "opt.config(font=font)\n",
    "opt.grid(row=7,column=1)"
   ]
  },
  {
   "cell_type": "code",
   "execution_count": 9,
   "metadata": {},
   "outputs": [],
   "source": [
    "download=Button(window,text=\"Download\",command=Directory).grid(row=8,column=0,columnspan=3)"
   ]
  },
  {
   "cell_type": "code",
   "execution_count": 10,
   "metadata": {},
   "outputs": [],
   "source": [
    "window.mainloop()"
   ]
  },
  {
   "cell_type": "code",
   "execution_count": null,
   "metadata": {},
   "outputs": [],
   "source": []
  },
  {
   "cell_type": "code",
   "execution_count": null,
   "metadata": {},
   "outputs": [],
   "source": []
  },
  {
   "cell_type": "code",
   "execution_count": null,
   "metadata": {},
   "outputs": [],
   "source": []
  }
 ],
 "metadata": {
  "kernelspec": {
   "display_name": "Python 3",
   "language": "python",
   "name": "python3"
  },
  "language_info": {
   "codemirror_mode": {
    "name": "ipython",
    "version": 3
   },
   "file_extension": ".py",
   "mimetype": "text/x-python",
   "name": "python",
   "nbconvert_exporter": "python",
   "pygments_lexer": "ipython3",
   "version": "3.7.6"
  }
 },
 "nbformat": 4,
 "nbformat_minor": 4
}
